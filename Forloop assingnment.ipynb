{
 "cells": [
  {
   "cell_type": "code",
   "execution_count": 1,
   "id": "5169a8c3-676e-4948-b0ca-68bde8a4266e",
   "metadata": {},
   "outputs": [],
   "source": [
    "#Q-1 Write a Python program to print the numbers from 1 to 10 using a `for` loop."
   ]
  },
  {
   "cell_type": "code",
   "execution_count": 9,
   "id": "255135f6-2d80-4fad-a75d-d7232ef52e24",
   "metadata": {},
   "outputs": [
    {
     "name": "stdout",
     "output_type": "stream",
     "text": [
      "1\n",
      "2\n",
      "3\n",
      "4\n",
      "5\n",
      "6\n",
      "7\n",
      "8\n",
      "9\n",
      "10\n"
     ]
    }
   ],
   "source": [
    "for i in range(1, 11):\n",
    "    print(i)\n",
    "\n"
   ]
  },
  {
   "cell_type": "code",
   "execution_count": 10,
   "id": "5d30c9fe-5375-4278-9c74-309483d65e82",
   "metadata": {},
   "outputs": [],
   "source": [
    "#Q=2 Create a program that calculates the sum of all numbers in a list using a `for` loop."
   ]
  },
  {
   "cell_type": "code",
   "execution_count": 22,
   "id": "d587895c-75be-4ec2-8d07-feba95d722f3",
   "metadata": {},
   "outputs": [
    {
     "name": "stdout",
     "output_type": "stream",
     "text": [
      "1\n",
      "3\n",
      "6\n",
      "10\n",
      "16\n",
      "22\n"
     ]
    }
   ],
   "source": [
    "nums = [1, 2, 3, 4, 6, 6]\n",
    "sum = 0\n",
    "for i in nums:\n",
    "    sum = sum + i\n",
    "print(\"Sum of list is:\", sum)"
   ]
  },
  {
   "cell_type": "code",
   "execution_count": null,
   "id": "42cbf856-c57d-417a-adad-c6b0cafe08dc",
   "metadata": {},
   "outputs": [],
   "source": [
    "#Q-3 Write a program to print the characters of a string in reverse order using a `for` loop."
   ]
  },
  {
   "cell_type": "code",
   "execution_count": 32,
   "id": "d48bea2f-2df8-42a0-8d8b-83f582093472",
   "metadata": {},
   "outputs": [
    {
     "name": "stdout",
     "output_type": "stream",
     "text": [
      "o\n",
      "l\n",
      "l\n",
      "e\n",
      "h\n"
     ]
    }
   ],
   "source": [
    "string = \"hello\"\n",
    "for char in reversed (string):\n",
    "    print(char)"
   ]
  },
  {
   "cell_type": "code",
   "execution_count": null,
   "id": "418b63f5-2fac-4903-a407-8cccfe737d17",
   "metadata": {},
   "outputs": [],
   "source": [
    "# Q-4 # Create a program to print the multiplication table of a given number using a `for` loop."
   ]
  },
  {
   "cell_type": "code",
   "execution_count": 46,
   "id": "fd306785-d5a2-4188-bd58-58e7d80f5159",
   "metadata": {},
   "outputs": [
    {
     "name": "stdin",
     "output_type": "stream",
     "text": [
      "which table you want 8\n"
     ]
    },
    {
     "name": "stdout",
     "output_type": "stream",
     "text": [
      "8 x 1 = 8\n",
      "8 x 2 = 16\n",
      "8 x 3 = 24\n",
      "8 x 4 = 32\n",
      "8 x 5 = 40\n",
      "8 x 6 = 48\n",
      "8 x 7 = 56\n",
      "8 x 8 = 64\n",
      "8 x 9 = 72\n",
      "8 x 10 = 80\n"
     ]
    }
   ],
   "source": [
    "num = int(input(\"which table you want\"))\n",
    "\n",
    "for i in range(1, 11):\n",
    "    product = num * i\n",
    "    print(f\"{num} x {i} = {product}\")\n"
   ]
  },
  {
   "cell_type": "code",
   "execution_count": null,
   "id": "ac567995-45b8-4e3b-b2de-e63b468bc52c",
   "metadata": {},
   "outputs": [],
   "source": [
    "Q-5 # Write a program that counts the number of even and odd numbers in a list using a `for` loop."
   ]
  },
  {
   "cell_type": "code",
   "execution_count": 8,
   "id": "ef1dccc1-714b-46f6-81ab-8a0685c49435",
   "metadata": {},
   "outputs": [
    {
     "name": "stdout",
     "output_type": "stream",
     "text": [
      "2 is even\n",
      "4 is even\n",
      "6 is even\n",
      "8 is even\n",
      "10 is even\n",
      "10 is odd\n"
     ]
    }
   ],
   "source": [
    "num = [1, 2, 3, 4, 5, 6, 7, 8, 9, 10]\n",
    "for i in num:\n",
    " if (i%2 == 0):\n",
    "    print(i,\"is even\")\n",
    "else :\n",
    " print(i,\"is odd\")            "
   ]
  },
  {
   "cell_type": "code",
   "execution_count": null,
   "id": "6abd0334-6c54-4683-a41e-1b7d3404704a",
   "metadata": {},
   "outputs": [],
   "source": [
    "Q -6 # Develop a program that prints the squares of numbers from 1 to 5 using a `for` loop."
   ]
  },
  {
   "cell_type": "code",
   "execution_count": 10,
   "id": "700f7a46-af35-4435-a84c-ae8208f2eef3",
   "metadata": {},
   "outputs": [
    {
     "name": "stdout",
     "output_type": "stream",
     "text": [
      "The square of 1 is 1\n",
      "The square of 2 is 4\n",
      "The square of 3 is 9\n",
      "The square of 4 is 16\n",
      "The square of 5 is 25\n"
     ]
    }
   ],
   "source": [
    "for i in range(1, 6):\n",
    "    square = i ** 2\n",
    "    print(f\"The square of {i} is {square}\")\n"
   ]
  },
  {
   "cell_type": "code",
   "execution_count": null,
   "id": "b62fdcc0-2d41-4912-b9c0-f0de83eb40ed",
   "metadata": {},
   "outputs": [],
   "source": [
    "Q- 7 # Develop a program that prints the pattern of right-angled triangles using a `for` loop. Use ‘*’ to draw the\n",
    "# pattern"
   ]
  },
  {
   "cell_type": "code",
   "execution_count": 12,
   "id": "7f3513be-ef53-4117-9339-05b6c3fcec7f",
   "metadata": {},
   "outputs": [
    {
     "name": "stdin",
     "output_type": "stream",
     "text": [
      "Enter the number of rows for the right-angled triangle:  6\n"
     ]
    },
    {
     "name": "stdout",
     "output_type": "stream",
     "text": [
      "* \n",
      "* * \n",
      "* * * \n",
      "* * * * \n",
      "* * * * * \n",
      "* * * * * * \n"
     ]
    }
   ],
   "source": [
    "# Get the number of rows for the right-angled triangle\n",
    "num_rows = int(input(\"Enter the number of rows for the right-angled triangle: \"))\n",
    "\n",
    "# Iterate through rows\n",
    "for i in range(1, num_rows + 1):\n",
    "    # Print '*' characters for each row\n",
    "    for j in range(1, i + 1):\n",
    "        print('*', end=' ')\n",
    "    print()  # Move to the next line after each row\n"
   ]
  },
  {
   "cell_type": "code",
   "execution_count": null,
   "id": "d44378d8-79b9-41d6-aca9-aeeaffb2437f",
   "metadata": {},
   "outputs": [],
   "source": [
    "# Q- 8 # Write a program to find the greatest common divisor (GCD) of two numbers using a `for` loop."
   ]
  },
  {
   "cell_type": "code",
   "execution_count": 13,
   "id": "436cad18-eced-4b65-9615-412ea0515bc8",
   "metadata": {},
   "outputs": [
    {
     "name": "stdin",
     "output_type": "stream",
     "text": [
      "Enter the first number:  632\n",
      "Enter the second number:  52\n"
     ]
    },
    {
     "name": "stdout",
     "output_type": "stream",
     "text": [
      "The GCD of 632 and 52 is 4\n"
     ]
    }
   ],
   "source": [
    "# Function to calculate the GCD of two numbers using a for loop\n",
    "def find_gcd(a, b):\n",
    "    while b:\n",
    "        a, b = b, a % b\n",
    "    return a\n",
    "\n",
    "# Input two numbers\n",
    "num1 = int(input(\"Enter the first number: \"))\n",
    "num2 = int(input(\"Enter the second number: \"))\n",
    "\n",
    "# Calculate the GCD\n",
    "gcd = find_gcd(num1, num2)\n",
    "\n",
    "# Print the GCD\n",
    "print(f\"The GCD of {num1} and {num2} is {gcd}\")\n"
   ]
  },
  {
   "cell_type": "code",
   "execution_count": null,
   "id": "b839806c-b86f-432d-9faa-60fa82c70771",
   "metadata": {},
   "outputs": [],
   "source": [
    "Q-9 # Develop a program that extracts unique elements from a list and stores them in a new list using a list\n",
    "# comprehension."
   ]
  },
  {
   "cell_type": "code",
   "execution_count": 14,
   "id": "361306d8-2504-4c06-b72d-621592ffdf4f",
   "metadata": {},
   "outputs": [
    {
     "name": "stdout",
     "output_type": "stream",
     "text": [
      "Original List: [1, 2, 2, 3, 4, 4, 5, 6, 6]\n",
      "Unique Elements: [1, 2, 3, 4, 5, 6]\n"
     ]
    }
   ],
   "source": [
    "# Input list with duplicate elements\n",
    "original_list = [1, 2, 2, 3, 4, 4, 5, 6, 6]\n",
    "\n",
    "# Use a list comprehension to extract unique elements\n",
    "unique_list = []\n",
    "[unique_list.append(x) for x in original_list if x not in unique_list]\n",
    "\n",
    "# Print the unique elements\n",
    "print(\"Original List:\", original_list)\n",
    "print(\"Unique Elements:\", unique_list)\n"
   ]
  },
  {
   "cell_type": "code",
   "execution_count": null,
   "id": "03b7267f-376e-4fbf-8f56-7cf2af61b441",
   "metadata": {},
   "outputs": [],
   "source": [
    "Q- 10 # Write a program that combines two lists into a dictionary using list comprehension."
   ]
  },
  {
   "cell_type": "code",
   "execution_count": 23,
   "id": "632fb0e5-7654-4138-841a-a59e607c1db0",
   "metadata": {},
   "outputs": [
    {
     "name": "stdout",
     "output_type": "stream",
     "text": [
      "{'name': 'Harsh', 'age': 21, 'city': 'Meerut'}\n"
     ]
    }
   ],
   "source": [
    "# Two lists, one for keys and another for values\n",
    "keys = ['name', 'age', 'city']\n",
    "values = ['Harsh', 21, 'Meerut']\n",
    "\n",
    "# Combine the lists into a dictionary using list comprehension\n",
    "combined_dict = {keys[i]: values[i] for i in range(min(len(keys), len(values)))}\n",
    "\n",
    "# Print the resulting dictionary\n",
    "print(combined_dict)\n"
   ]
  },
  {
   "cell_type": "code",
   "execution_count": null,
   "id": "1b4fc7ab-6f41-4c82-9183-f26520a8180f",
   "metadata": {},
   "outputs": [],
   "source": []
  }
 ],
 "metadata": {
  "kernelspec": {
   "display_name": "Python 3 (ipykernel)",
   "language": "python",
   "name": "python3"
  },
  "language_info": {
   "codemirror_mode": {
    "name": "ipython",
    "version": 3
   },
   "file_extension": ".py",
   "mimetype": "text/x-python",
   "name": "python",
   "nbconvert_exporter": "python",
   "pygments_lexer": "ipython3",
   "version": "3.10.8"
  }
 },
 "nbformat": 4,
 "nbformat_minor": 5
}
